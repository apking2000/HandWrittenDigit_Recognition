{
  "nbformat": 4,
  "nbformat_minor": 0,
  "metadata": {
    "colab": {
      "name": "HandWrittenDigits_Predictor.ipynb",
      "provenance": [],
      "collapsed_sections": []
    },
    "kernelspec": {
      "display_name": "Python 3",
      "name": "python3"
    }
  },
  "cells": [
    {
      "cell_type": "code",
      "metadata": {
        "id": "iMYM2pXJpSHE"
      },
      "source": [
        "from keras.models import load_model\n",
        "model = load_model('/content/HandwrittenDigits_model.h5')"
      ],
      "execution_count": null,
      "outputs": []
    },
    {
      "cell_type": "code",
      "metadata": {
        "id": "UkdznNqSuDNR"
      },
      "source": [
        "def predict_images(img):\n",
        "    \n",
        "    import cv2\n",
        "    import numpy as np\n",
        "\n",
        "    #Extract Features\n",
        "    \n",
        "    features = cv2.imread(img,0)\n",
        "    \n",
        "    \n",
        "    res_features = cv2.resize(features,(80,80))\n",
        "\n",
        "    \n",
        "    X = np.array(res_features).reshape(-1,80,80,1)\n",
        "    \n",
        "    X=X/X.max()\n",
        "    \n",
        "    Y= np.argmax(model.predict(X.reshape(1,80,80,1)))\n",
        "    return Y\n",
        "\n",
        "    "
      ],
      "execution_count": null,
      "outputs": []
    },
    {
      "cell_type": "markdown",
      "metadata": {
        "id": "aKO3xaZj6yA-"
      },
      "source": [
        "# User Enter Image Path Here"
      ]
    },
    {
      "cell_type": "code",
      "metadata": {
        "colab": {
          "base_uri": "https://localhost:8080/"
        },
        "id": "F2uv5wqc0pG5",
        "outputId": "ebd05a3d-145e-4030-f07f-7a4dd28e73b4"
      },
      "source": [
        "img=\"/content/digit_7_ccb8a3d8-1951-11e9-a390-309c2384bdbc.jpg\"\n",
        "print(\"Predicted Value =\",predict_images(img))"
      ],
      "execution_count": null,
      "outputs": [
        {
          "output_type": "stream",
          "text": [
            "Predicted Value = 7\n"
          ],
          "name": "stdout"
        }
      ]
    }
  ]
}